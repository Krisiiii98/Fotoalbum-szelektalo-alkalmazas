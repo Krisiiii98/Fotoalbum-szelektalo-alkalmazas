{
  "nbformat": 4,
  "nbformat_minor": 0,
  "metadata": {
    "colab": {
      "provenance": [],
      "machine_shape": "hm"
    },
    "kernelspec": {
      "name": "python3",
      "display_name": "Python 3"
    },
    "language_info": {
      "name": "python"
    }
  },
  "cells": [
    {
      "cell_type": "code",
      "execution_count": null,
      "metadata": {
        "colab": {
          "base_uri": "https://localhost:8080/"
        },
        "id": "MSjLaUUL4Fys",
        "outputId": "c1659c59-ae11-47cc-a4e4-5f9417483a6c"
      },
      "outputs": [
        {
          "output_type": "stream",
          "name": "stdout",
          "text": [
            "Mounted at /content/drive\n"
          ]
        }
      ],
      "source": [
        "from google.colab import drive\n",
        "\n",
        "# Force remount to refresh credentials\n",
        "drive.mount('/content/drive', force_remount=True)"
      ]
    },
    {
      "cell_type": "code",
      "source": [
        "!ls \"/content/drive/MyDrive/Datasets/\""
      ],
      "metadata": {
        "colab": {
          "base_uri": "https://localhost:8080/"
        },
        "id": "22R0Vk5-4UPR",
        "outputId": "c2639635-edf5-4095-e57d-df1fe65075a2"
      },
      "execution_count": null,
      "outputs": [
        {
          "output_type": "stream",
          "name": "stdout",
          "text": [
            "defocused_blurred  DIV2K_train_HR  DIV2K_valid_HR  sharp\n",
            "DIV2K_blurred\t   DIV2K_train_LR  motion_blurred\n"
          ]
        }
      ]
    },
    {
      "cell_type": "code",
      "source": [
        "import numpy as np\n",
        "import os\n",
        "\n",
        "KERNEL_DIR = \"/content/drive/MyDrive/Datasets/DIV2K_blurred/kernels\"\n",
        "bad_files = []\n",
        "for fname in os.listdir(KERNEL_DIR):\n",
        "    if fname.endswith(\".npy\"):\n",
        "        arr = np.load(os.path.join(KERNEL_DIR, fname))\n",
        "        if arr.shape != (15, 15):\n",
        "            bad_files.append((fname, arr.shape))\n",
        "\n",
        "print(f\"Talált hibás PSF fájlok: {len(bad_files)}\")\n",
        "print(bad_files[:5])  # csak az első 5 hibás fájl kiírása"
      ],
      "metadata": {
        "colab": {
          "base_uri": "https://localhost:8080/"
        },
        "id": "IfI9RR8K5Yne",
        "outputId": "b148bdbe-c98d-4132-ef2f-09c10c4f941d"
      },
      "execution_count": null,
      "outputs": [
        {
          "output_type": "stream",
          "name": "stdout",
          "text": [
            "Talált hibás PSF fájlok: 0\n",
            "[]\n"
          ]
        }
      ]
    },
    {
      "cell_type": "code",
      "source": [
        "import os\n",
        "import torch\n",
        "import torch.nn as nn\n",
        "import torch.nn.functional as F\n",
        "from torch.utils.data import Dataset, DataLoader\n",
        "from torchvision import transforms\n",
        "from PIL import Image\n",
        "import numpy as np\n",
        "from tqdm import tqdm\n",
        "\n",
        "# --- Paraméterek ---\n",
        "DATA_DIR = \"/content/drive/MyDrive/Datasets/DIV2K_blurred\"\n",
        "KERNEL_SIZE = 15\n",
        "BATCH_SIZE = 16\n",
        "EPOCHS = 20\n",
        "LR = 1e-4\n",
        "\n",
        "# --- Dataset ---\n",
        "class PSFDataset(Dataset):\n",
        "    def __init__(self, blur_dir, kernel_dir, transform=None):\n",
        "        self.blur_dir = blur_dir\n",
        "        self.kernel_dir = kernel_dir\n",
        "        self.filenames = sorted([f for f in os.listdir(blur_dir) if f.endswith('.png')])\n",
        "        self.transform = transform\n",
        "\n",
        "    def __len__(self):\n",
        "        return len(self.filenames)\n",
        "\n",
        "    def __getitem__(self, idx):\n",
        "        fname = self.filenames[idx]\n",
        "        blur_path = os.path.join(self.blur_dir, fname)\n",
        "        kernel_path = os.path.join(self.kernel_dir, fname.replace('.png', '.npy'))\n",
        "\n",
        "        image = Image.open(blur_path).convert(\"RGB\")\n",
        "        if self.transform:\n",
        "            image = self.transform(image)\n",
        "\n",
        "        kernel = np.load(kernel_path)\n",
        "        kernel = torch.from_numpy(kernel).float().unsqueeze(0)  # [1, 15, 15]\n",
        "\n",
        "        return image, kernel\n",
        "\n",
        "# --- Transzformáció ---\n",
        "transform = transforms.Compose([\n",
        "    transforms.Resize((128, 128)),\n",
        "    transforms.ToTensor()\n",
        "])\n",
        "\n",
        "dataset = PSFDataset(\n",
        "    blur_dir=os.path.join(DATA_DIR, \"blurred\"),\n",
        "    kernel_dir=os.path.join(DATA_DIR, \"kernels\"),\n",
        "    transform=transform\n",
        ")\n",
        "dataloader = DataLoader(dataset, batch_size=BATCH_SIZE, shuffle=True, num_workers=2)\n",
        "\n",
        "# --- Hálózat ---\n",
        "class PSFPredictor(nn.Module):\n",
        "    def __init__(self, kernel_size=15):\n",
        "        super().__init__()\n",
        "        self.encoder = nn.Sequential(\n",
        "            nn.Conv2d(3, 32, 3, padding=1),\n",
        "            nn.ReLU(),\n",
        "            nn.Conv2d(32, 64, 3, padding=1),\n",
        "            nn.ReLU(),\n",
        "            nn.AdaptiveAvgPool2d((1, 1))\n",
        "        )\n",
        "        self.fc = nn.Linear(64, kernel_size * kernel_size)\n",
        "        self.kernel_size = kernel_size\n",
        "\n",
        "    def forward(self, x):\n",
        "        x = self.encoder(x)  # [B, 64, 1, 1]\n",
        "        x = x.view(x.size(0), -1)  # [B, 64]\n",
        "        x = self.fc(x)             # [B, 225]\n",
        "        x = x.view(-1, 1, self.kernel_size, self.kernel_size)\n",
        "        x = F.relu(x)              # non-negatív\n",
        "        x = x / (x.sum(dim=[2, 3], keepdim=True) + 1e-8)  # normalizálás\n",
        "        return x\n",
        "\n",
        "# --- Tanítás ---\n",
        "device = torch.device(\"cuda\" if torch.cuda.is_available() else \"cpu\")\n",
        "model = PSFPredictor(kernel_size=KERNEL_SIZE).to(device)\n",
        "optimizer = torch.optim.Adam(model.parameters(), lr=LR)\n",
        "criterion = nn.MSELoss()\n",
        "\n",
        "for epoch in range(EPOCHS):\n",
        "    model.train()\n",
        "    total_loss = 0\n",
        "    for imgs, kernels in tqdm(dataloader, desc=f\"Epoch {epoch+1}/{EPOCHS}\"):\n",
        "        imgs, kernels = imgs.to(device), kernels.to(device)\n",
        "        pred = model(imgs)\n",
        "        loss = criterion(pred, kernels)\n",
        "\n",
        "        optimizer.zero_grad()\n",
        "        loss.backward()\n",
        "        optimizer.step()\n",
        "\n",
        "        total_loss += loss.item()\n",
        "\n",
        "    print(f\"\\u2705 Epoch {epoch+1}: Loss = {total_loss / len(dataloader):.6f}\")\n",
        "\n",
        "# --- Modell mentése ---\n",
        "torch.save(model.state_dict(), \"/content/drive/MyDrive/models/psf_predictor.pth\")\n",
        "print(\"\\n📅 Modell mentve: psf_predictor.pth\")"
      ],
      "metadata": {
        "colab": {
          "base_uri": "https://localhost:8080/"
        },
        "id": "o43et4Lo4XLd",
        "outputId": "f5e41d8a-e53a-4763-fc4c-8212ace6f1d6"
      },
      "execution_count": null,
      "outputs": [
        {
          "output_type": "stream",
          "name": "stderr",
          "text": [
            "Epoch 1/20: 100%|██████████| 50/50 [00:19<00:00,  2.57it/s]\n"
          ]
        },
        {
          "output_type": "stream",
          "name": "stdout",
          "text": [
            "✅ Epoch 1: Loss = 0.000632\n"
          ]
        },
        {
          "output_type": "stream",
          "name": "stderr",
          "text": [
            "Epoch 2/20: 100%|██████████| 50/50 [00:16<00:00,  3.03it/s]\n"
          ]
        },
        {
          "output_type": "stream",
          "name": "stdout",
          "text": [
            "✅ Epoch 2: Loss = 0.000584\n"
          ]
        },
        {
          "output_type": "stream",
          "name": "stderr",
          "text": [
            "Epoch 3/20: 100%|██████████| 50/50 [00:16<00:00,  3.09it/s]\n"
          ]
        },
        {
          "output_type": "stream",
          "name": "stdout",
          "text": [
            "✅ Epoch 3: Loss = 0.000551\n"
          ]
        },
        {
          "output_type": "stream",
          "name": "stderr",
          "text": [
            "Epoch 4/20: 100%|██████████| 50/50 [00:17<00:00,  2.91it/s]\n"
          ]
        },
        {
          "output_type": "stream",
          "name": "stdout",
          "text": [
            "✅ Epoch 4: Loss = 0.000533\n"
          ]
        },
        {
          "output_type": "stream",
          "name": "stderr",
          "text": [
            "Epoch 5/20: 100%|██████████| 50/50 [00:16<00:00,  3.02it/s]\n"
          ]
        },
        {
          "output_type": "stream",
          "name": "stdout",
          "text": [
            "✅ Epoch 5: Loss = 0.000527\n"
          ]
        },
        {
          "output_type": "stream",
          "name": "stderr",
          "text": [
            "Epoch 6/20: 100%|██████████| 50/50 [00:16<00:00,  3.05it/s]\n"
          ]
        },
        {
          "output_type": "stream",
          "name": "stdout",
          "text": [
            "✅ Epoch 6: Loss = 0.000526\n"
          ]
        },
        {
          "output_type": "stream",
          "name": "stderr",
          "text": [
            "Epoch 7/20: 100%|██████████| 50/50 [00:16<00:00,  3.00it/s]\n"
          ]
        },
        {
          "output_type": "stream",
          "name": "stdout",
          "text": [
            "✅ Epoch 7: Loss = 0.000525\n"
          ]
        },
        {
          "output_type": "stream",
          "name": "stderr",
          "text": [
            "Epoch 8/20: 100%|██████████| 50/50 [00:16<00:00,  3.00it/s]\n"
          ]
        },
        {
          "output_type": "stream",
          "name": "stdout",
          "text": [
            "✅ Epoch 8: Loss = 0.000525\n"
          ]
        },
        {
          "output_type": "stream",
          "name": "stderr",
          "text": [
            "Epoch 9/20: 100%|██████████| 50/50 [00:16<00:00,  2.97it/s]\n"
          ]
        },
        {
          "output_type": "stream",
          "name": "stdout",
          "text": [
            "✅ Epoch 9: Loss = 0.000525\n"
          ]
        },
        {
          "output_type": "stream",
          "name": "stderr",
          "text": [
            "Epoch 10/20: 100%|██████████| 50/50 [00:16<00:00,  3.03it/s]\n"
          ]
        },
        {
          "output_type": "stream",
          "name": "stdout",
          "text": [
            "✅ Epoch 10: Loss = 0.000525\n"
          ]
        },
        {
          "output_type": "stream",
          "name": "stderr",
          "text": [
            "Epoch 11/20: 100%|██████████| 50/50 [00:16<00:00,  3.04it/s]\n"
          ]
        },
        {
          "output_type": "stream",
          "name": "stdout",
          "text": [
            "✅ Epoch 11: Loss = 0.000525\n"
          ]
        },
        {
          "output_type": "stream",
          "name": "stderr",
          "text": [
            "Epoch 12/20: 100%|██████████| 50/50 [00:16<00:00,  3.04it/s]\n"
          ]
        },
        {
          "output_type": "stream",
          "name": "stdout",
          "text": [
            "✅ Epoch 12: Loss = 0.000525\n"
          ]
        },
        {
          "output_type": "stream",
          "name": "stderr",
          "text": [
            "Epoch 13/20: 100%|██████████| 50/50 [00:16<00:00,  2.97it/s]\n"
          ]
        },
        {
          "output_type": "stream",
          "name": "stdout",
          "text": [
            "✅ Epoch 13: Loss = 0.000525\n"
          ]
        },
        {
          "output_type": "stream",
          "name": "stderr",
          "text": [
            "Epoch 14/20: 100%|██████████| 50/50 [00:16<00:00,  3.00it/s]\n"
          ]
        },
        {
          "output_type": "stream",
          "name": "stdout",
          "text": [
            "✅ Epoch 14: Loss = 0.000525\n"
          ]
        },
        {
          "output_type": "stream",
          "name": "stderr",
          "text": [
            "Epoch 15/20: 100%|██████████| 50/50 [00:16<00:00,  3.02it/s]\n"
          ]
        },
        {
          "output_type": "stream",
          "name": "stdout",
          "text": [
            "✅ Epoch 15: Loss = 0.000525\n"
          ]
        },
        {
          "output_type": "stream",
          "name": "stderr",
          "text": [
            "Epoch 16/20: 100%|██████████| 50/50 [00:16<00:00,  3.01it/s]\n"
          ]
        },
        {
          "output_type": "stream",
          "name": "stdout",
          "text": [
            "✅ Epoch 16: Loss = 0.000524\n"
          ]
        },
        {
          "output_type": "stream",
          "name": "stderr",
          "text": [
            "Epoch 17/20: 100%|██████████| 50/50 [00:16<00:00,  3.01it/s]\n"
          ]
        },
        {
          "output_type": "stream",
          "name": "stdout",
          "text": [
            "✅ Epoch 17: Loss = 0.000524\n"
          ]
        },
        {
          "output_type": "stream",
          "name": "stderr",
          "text": [
            "Epoch 18/20: 100%|██████████| 50/50 [00:17<00:00,  2.92it/s]\n"
          ]
        },
        {
          "output_type": "stream",
          "name": "stdout",
          "text": [
            "✅ Epoch 18: Loss = 0.000524\n"
          ]
        },
        {
          "output_type": "stream",
          "name": "stderr",
          "text": [
            "Epoch 19/20: 100%|██████████| 50/50 [00:16<00:00,  2.98it/s]\n"
          ]
        },
        {
          "output_type": "stream",
          "name": "stdout",
          "text": [
            "✅ Epoch 19: Loss = 0.000524\n"
          ]
        },
        {
          "output_type": "stream",
          "name": "stderr",
          "text": [
            "Epoch 20/20: 100%|██████████| 50/50 [00:16<00:00,  2.97it/s]"
          ]
        },
        {
          "output_type": "stream",
          "name": "stdout",
          "text": [
            "✅ Epoch 20: Loss = 0.000524\n",
            "\n",
            "📅 Modell mentve: psf_predictor.pth\n"
          ]
        },
        {
          "output_type": "stream",
          "name": "stderr",
          "text": [
            "\n"
          ]
        }
      ]
    }
  ]
}